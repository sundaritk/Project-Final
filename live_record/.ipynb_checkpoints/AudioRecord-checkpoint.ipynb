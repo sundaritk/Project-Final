{
 "cells": [
  {
   "cell_type": "markdown",
   "metadata": {},
   "source": [
    "Python Notebook for creation of interactive sound recording\n",
    "    Create and playback a personal recording\n",
    "    Rewrite to same filename, ease of integration\n",
    "    Display audio chart via librosa/matplotlib\n",
    "    Use ML model to give output of gender and emotion\n",
    "    \n",
    "\n",
    "Move to 'live_guess.py'\n",
    "    3 functions\n",
    "        1.Record (button)\n",
    "        2.Playback (button)\n",
    "        3.Ouput (button) \n",
    "            label button as \"Guess my Emotion\""
   ]
  },
  {
   "cell_type": "code",
   "execution_count": 1,
   "metadata": {},
   "outputs": [],
   "source": [
    "#imports of libraries to use 'python sound device'\n",
    "import sounddevice as sd\n",
    "import soundfile as sf\n",
    "import numpy as np\n",
    "from scipy.io.wavfile import write\n",
    "\n",
    "#import matplotlib for charting\n",
    "import matplotlib.pyplot as plt\n",
    "\n",
    "#import seaborn for chart formatting\n",
    "import seaborn as sns\n",
    "\n",
    "#import parselmouth for .wav sound file into chart\n",
    "import parselmouth as PM\n",
    "\n",
    "#import of librosa model/library\n",
    "import librosa\n",
    "import librosa.display\n",
    "\n",
    "#other potentially useful/common libraries\n",
    "import pandas as pd"
   ]
  },
  {
   "cell_type": "code",
   "execution_count": 3,
   "metadata": {},
   "outputs": [],
   "source": [
    "#code chunk to record a numpy array .wav file, and save it\n",
    "#save to same 'livefile.wav', avoids caching tons of files\n",
    "\n",
    "fs = 44100 #sample rate\n",
    "seconds = 5 #duration of recording\n",
    "\n",
    "recording = sd.rec(int(seconds*fs), samplerate=fs, channels=2)\n",
    "sd.wait() #waits until recording is finished, i.e 5 seconds\n",
    "write('livefile.wav', fs, recording) #saves as a WAV file"
   ]
  },
  {
   "cell_type": "code",
   "execution_count": 4,
   "metadata": {},
   "outputs": [],
   "source": [
    "#code chunk to playback the live/recorded file\n",
    "#essentially repeat of cell #3\n",
    "\n",
    "file = \"livefile.wav\"\n",
    "data, fs = sf.read(file, dtype = 'float32')\n",
    "sd.play(data, fs)\n",
    "status = sd.wait()"
   ]
  },
  {
   "cell_type": "code",
   "execution_count": 17,
   "metadata": {},
   "outputs": [
    {
     "data": {
      "image/png": "[encoded data removed]",
      "text/plain": [
       "<Figure size 1080x360 with 1 Axes>"
      ]
     },
     "metadata": {},
     "output_type": "display_data"
    }
   ],
   "source": [
    "#use of librosa library to create another audio chart\n",
    "data, sampling_rate = librosa.load(\"livefile.wav\")\n",
    "plt.figure(figsize=(15,5))\n",
    "librosa.display.waveplot(data, sr = sampling_rate)\n",
    "\n",
    "#similar as before; create identical savefiles for overwriting/display\n",
    "plt.savefig(\"live_librosa_chart.png\")"
   ]
  },
  {
   "cell_type": "code",
   "execution_count": 7,
   "metadata": {},
   "outputs": [
    {
     "name": "stderr",
     "output_type": "stream",
     "text": [
      "Using TensorFlow backend.\n"
     ]
    }
   ],
   "source": [
    "#ML function imports\n",
    "\n",
    "import keras\n",
    "from keras.preprocessing import sequence\n",
    "from keras.models import Sequential\n",
    "from keras.layers import Dense, Embedding\n",
    "from keras.layers import LSTM\n",
    "from keras.preprocessing.text import Tokenizer\n",
    "from keras.preprocessing.sequence import pad_sequences\n",
    "from keras.utils import to_categorical\n",
    "from keras.layers import Input, Flatten, Dropout, Activation\n",
    "from keras.layers import Conv1D, MaxPooling1D, AveragePooling1D\n",
    "from keras.models import Model\n",
    "from keras.callbacks import ModelCheckpoint\n",
    "from sklearn.metrics import confusion_matrix\n",
    "from keras.utils import np_utils\n",
    "from sklearn.preprocessing import LabelEncoder\n",
    "from keras.models import model_from_json\n",
    "from numpy import load"
   ]
  },
  {
   "cell_type": "code",
   "execution_count": 8,
   "metadata": {
    "scrolled": true
   },
   "outputs": [
    {
     "data": {
      "text/html": [
       "<div>\n",
       "<style scoped>\n",
       "    .dataframe tbody tr th:only-of-type {\n",
       "        vertical-align: middle;\n",
       "    }\n",
       "\n",
       "    .dataframe tbody tr th {\n",
       "        vertical-align: top;\n",
       "    }\n",
       "\n",
       "    .dataframe thead tr th {\n",
       "        text-align: left;\n",
       "    }\n",
       "</style>\n",
       "<table border=\"1\" class=\"dataframe\">\n",
       "  <thead>\n",
       "    <tr>\n",
       "      <th></th>\n",
       "      <th>0</th>\n",
       "      <th>1</th>\n",
       "      <th>2</th>\n",
       "      <th>3</th>\n",
       "      <th>4</th>\n",
       "      <th>5</th>\n",
       "      <th>6</th>\n",
       "      <th>7</th>\n",
       "      <th>8</th>\n",
       "      <th>9</th>\n",
       "      <th>...</th>\n",
       "      <th>206</th>\n",
       "      <th>207</th>\n",
       "      <th>208</th>\n",
       "      <th>209</th>\n",
       "      <th>210</th>\n",
       "      <th>211</th>\n",
       "      <th>212</th>\n",
       "      <th>213</th>\n",
       "      <th>214</th>\n",
       "      <th>215</th>\n",
       "    </tr>\n",
       "    <tr>\n",
       "      <th></th>\n",
       "      <th>0</th>\n",
       "      <th>0</th>\n",
       "      <th>0</th>\n",
       "      <th>0</th>\n",
       "      <th>0</th>\n",
       "      <th>0</th>\n",
       "      <th>0</th>\n",
       "      <th>0</th>\n",
       "      <th>0</th>\n",
       "      <th>0</th>\n",
       "      <th>...</th>\n",
       "      <th>0</th>\n",
       "      <th>0</th>\n",
       "      <th>0</th>\n",
       "      <th>0</th>\n",
       "      <th>0</th>\n",
       "      <th>0</th>\n",
       "      <th>0</th>\n",
       "      <th>0</th>\n",
       "      <th>0</th>\n",
       "      <th>0</th>\n",
       "    </tr>\n",
       "  </thead>\n",
       "  <tbody>\n",
       "    <tr>\n",
       "      <td>0</td>\n",
       "      <td>-42.617966</td>\n",
       "      <td>-38.852486</td>\n",
       "      <td>-38.211288</td>\n",
       "      <td>-39.072727</td>\n",
       "      <td>-39.384209</td>\n",
       "      <td>-39.880795</td>\n",
       "      <td>-40.062561</td>\n",
       "      <td>-40.153301</td>\n",
       "      <td>-41.501274</td>\n",
       "      <td>-42.098507</td>\n",
       "      <td>...</td>\n",
       "      <td>-40.182556</td>\n",
       "      <td>-40.226891</td>\n",
       "      <td>-42.066669</td>\n",
       "      <td>-43.103764</td>\n",
       "      <td>-43.339626</td>\n",
       "      <td>-43.820549</td>\n",
       "      <td>-44.222343</td>\n",
       "      <td>-44.198715</td>\n",
       "      <td>-44.77433</td>\n",
       "      <td>-42.164818</td>\n",
       "    </tr>\n",
       "  </tbody>\n",
       "</table>\n",
       "<p>1 rows × 216 columns</p>\n",
       "</div>"
      ],
      "text/plain": [
       "         0          1          2          3          4          5    \\\n",
       "           0          0          0          0          0          0   \n",
       "0 -42.617966 -38.852486 -38.211288 -39.072727 -39.384209 -39.880795   \n",
       "\n",
       "         6          7          8          9    ...        206        207  \\\n",
       "           0          0          0          0  ...          0          0   \n",
       "0 -40.062561 -40.153301 -41.501274 -42.098507  ... -40.182556 -40.226891   \n",
       "\n",
       "         208        209        210        211        212        213       214  \\\n",
       "           0          0          0          0          0          0         0   \n",
       "0 -42.066669 -43.103764 -43.339626 -43.820549 -44.222343 -44.198715 -44.77433   \n",
       "\n",
       "         215  \n",
       "           0  \n",
       "0 -42.164818  \n",
       "\n",
       "[1 rows x 216 columns]"
      ]
     },
     "execution_count": 8,
     "metadata": {},
     "output_type": "execute_result"
    }
   ],
   "source": [
    "#create dataframe from librosa to create our features for ML\n",
    "X, sample_rate = librosa.load('livefile.wav', res_type='kaiser_fast',duration=2.5,sr=22050*2,offset=0.5)\n",
    "sample_rate = np.array(sample_rate)\n",
    "live_mfccs = np.mean(librosa.feature.mfcc(y=X, sr=sample_rate, n_mfcc=13),axis=0)\n",
    "live_feature = live_mfccs\n",
    "live = live_feature\n",
    "\n",
    "live= pd.DataFrame(data=live)\n",
    "live = live.stack().to_frame().T\n",
    "live"
   ]
  },
  {
   "cell_type": "code",
   "execution_count": 16,
   "metadata": {},
   "outputs": [
    {
     "name": "stdout",
     "output_type": "stream",
     "text": [
      "1/1 [==============================] - 0s 87ms/step\n",
      "[7]\n",
      "Male Fearful\n"
     ]
    }
   ],
   "source": [
    "#loading previously trained model,\n",
    "#and putting the new/live recording through\n",
    "\n",
    "json_file = open('model.json', 'r')\n",
    "loaded_model_json = json_file.read()\n",
    "json_file.close()\n",
    "loaded_model = model_from_json(loaded_model_json)\n",
    "# load weights into new model\n",
    "loaded_model.load_weights(\"Emotion_Voice_Detection_Model.h5\")\n",
    "\n",
    "twodim= np.expand_dims(live, axis=2)\n",
    "\n",
    "livepreds = loaded_model.predict(twodim, \n",
    "                        batch_size=32, \n",
    "                        verbose=1)\n",
    "\n",
    "livepreds1=livepreds.argmax(axis=1)\n",
    "\n",
    "liveabc = livepreds1.astype(int).flatten()\n",
    "print(liveabc)\n",
    "lb = LabelEncoder()\n",
    "y_train=load('y_train.npy',allow_pickle=True)\n",
    "y_test=load('y_test.npy',allow_pickle=True)\n",
    "y_train = np_utils.to_categorical(lb.fit_transform(y_train))\n",
    "y_test = np_utils.to_categorical(lb.fit_transform(y_test))\n",
    "livepredictions = str(lb.inverse_transform((liveabc))[0])\n",
    "#gender=livepredictions[2:6]\n",
    "#emotion=livepredictions[7:14]\n",
    "gender_emotion = livepredictions.split('_')\n",
    "gender=gender_emotion[0].capitalize()\n",
    "emotion=gender_emotion[1].capitalize()\n",
    "# print(livepredictions)\n",
    "#return gender,emotion\n",
    "print(gender, emotion)"
   ]
  },
  {
   "cell_type": "code",
   "execution_count": null,
   "metadata": {},
   "outputs": [],
   "source": [
    "import model_train"
   ]
  },
  {
   "cell_type": "code",
   "execution_count": null,
   "metadata": {},
   "outputs": [],
   "source": []
  }
 ],
 "metadata": {
  "kernelspec": {
   "display_name": "Python 3",
   "language": "python",
   "name": "python3"
  },
  "language_info": {
   "codemirror_mode": {
    "name": "ipython",
    "version": 3
   },
   "file_extension": ".py",
   "mimetype": "text/x-python",
   "name": "python",
   "nbconvert_exporter": "python",
   "pygments_lexer": "ipython3",
   "version": "3.6.9"
  }
 },
 "nbformat": 4,
 "nbformat_minor": 2
}
